{
  "cells": [
    {
      "cell_type": "code",
      "source": [
        "print('Ejecución del modelo')\n",
        "from azure.storage.blob import BlobServiceClient, BlobClient, ContainerClient\n",
        "import joblib  # o cualquier librería para guardar tu modelo"
      ],
      "outputs": [
        {
          "output_type": "stream",
          "name": "stdout",
          "text": "Ejecución del modelo\n"
        }
      ],
      "execution_count": 35,
      "metadata": {
        "gather": {
          "logged": 1725586545875
        }
      }
    },
    {
      "cell_type": "code",
      "source": [
        "# Conexión a tu cuenta de almacenamiento\n",
        "#connection_string = \"DefaultEndpointsProtocol=https;AccountName=containeruees;AccountKey=<tu_key>;EndpointSuffix=core.windows.net\"\n",
        "connection_string = \"DefaultEndpointsProtocol=https;AccountName=storageuees;AccountKey=uSahqju2rNAGzygs9nasICLZVZsrLGT+eq+wuBB9rOnq3mhNxsfEdCHeGoVEMVOosVw7KdxEArjY+AStl+onpg==;EndpointSuffix=core.windows.net\"\n",
        "blob_service_client = BlobServiceClient.from_connection_string(connection_string)\n",
        "\n",
        "# Nombre del contenedor y el blob (archivo) donde guardarás el modelo\n",
        "container_name = \"containeruees\"\n",
        "blob_name = \"training_models_2/file.png\""
      ],
      "outputs": [],
      "execution_count": 2,
      "metadata": {
        "jupyter": {
          "source_hidden": false,
          "outputs_hidden": false
        },
        "nteract": {
          "transient": {
            "deleting": false
          }
        },
        "gather": {
          "logged": 1725579605473
        }
      }
    },
    {
      "cell_type": "code",
      "source": [],
      "outputs": [],
      "execution_count": 31,
      "metadata": {
        "jupyter": {
          "source_hidden": false,
          "outputs_hidden": false
        },
        "nteract": {
          "transient": {
            "deleting": false
          }
        },
        "gather": {
          "logged": 1725581474952
        }
      }
    },
    {
      "cell_type": "code",
      "source": [
        "# Crear el contenedor si no existe\n",
        "container_client = blob_service_client.get_container_client(container_name)\n",
        "try:\n",
        "    container_client.create_container()\n",
        "except Exception as e:\n",
        "    pass  # Si ya existe, continúa"
      ],
      "outputs": [],
      "execution_count": 32,
      "metadata": {
        "jupyter": {
          "source_hidden": false,
          "outputs_hidden": false
        },
        "nteract": {
          "transient": {
            "deleting": false
          }
        },
        "gather": {
          "logged": 1725581476798
        }
      }
    },
    {
      "cell_type": "code",
      "source": [
        "# Guardar el modelo entrenado en Blob Storage\n",
        "model_file_path = './buhoreal.png'\n",
        "blob_client = blob_service_client.get_blob_client(container=container_name, blob=blob_name)\n",
        "\n",
        "with open(model_file_path, \"rb\") as data:\n",
        "    blob_client.upload_blob(data, overwrite=True)\n",
        "\n",
        "print(f\"Modelo subido a Blob Storage: {blob_name}\")"
      ],
      "outputs": [
        {
          "output_type": "stream",
          "name": "stdout",
          "text": "Modelo subido a Blob Storage: training_models_2/file.png\n"
        }
      ],
      "execution_count": 34,
      "metadata": {
        "jupyter": {
          "source_hidden": false,
          "outputs_hidden": false
        },
        "nteract": {
          "transient": {
            "deleting": false
          }
        },
        "gather": {
          "logged": 1725586504958
        }
      }
    }
  ],
  "metadata": {
    "kernelspec": {
      "name": "python38-azureml",
      "language": "python",
      "display_name": "Python 3.8 - AzureML"
    },
    "language_info": {
      "name": "python",
      "version": "3.9.19",
      "mimetype": "text/x-python",
      "codemirror_mode": {
        "name": "ipython",
        "version": 3
      },
      "pygments_lexer": "ipython3",
      "nbconvert_exporter": "python",
      "file_extension": ".py"
    },
    "microsoft": {
      "ms_spell_check": {
        "ms_spell_check_language": "es"
      },
      "host": {
        "AzureML": {
          "notebookHasBeenCompleted": true
        }
      }
    },
    "kernel_info": {
      "name": "python38-azureml"
    },
    "nteract": {
      "version": "nteract-front-end@1.0.0"
    }
  },
  "nbformat": 4,
  "nbformat_minor": 2
}